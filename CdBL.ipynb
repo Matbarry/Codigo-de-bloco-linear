{
 "cells": [
  {
   "cell_type": "code",
   "execution_count": 78,
   "id": "2f23099f",
   "metadata": {},
   "outputs": [
    {
     "name": "stdout",
     "output_type": "stream",
     "text": [
      "Mensagem original: [1 0 1]\n",
      "Mensagem codificada: [1 0 1 1 1 0]\n",
      "Mensagem recebida: [0 0 0 1 1 0]\n",
      "Mensagem decodificada: [1 0 1]\n"
     ]
    }
   ],
   "source": [
    "import numpy as np\n",
    "\n",
    "\n",
    "menssagem = np.array([1,1,0,0,0,1])\n",
    "# Definir a matriz geradora G\n",
    "G = np.array([[1, 0, 0, 1, 0, 1],\n",
    "              [0, 1, 0, 1, 1, 0],\n",
    "              [0, 0, 1, 0, 1, 1]]\n",
    "              )\n",
    "GT = np.transpose(G)\n",
    "\n",
    "# Definir a mensagem a ser codificada\n",
    "message = np.array([1, 0, 1])\n",
    "\n",
    "# Codificar a mensagem usando a matriz geradora G\n",
    "codeword = np.dot(message, G) \n",
    "\n",
    "codeword = np.mod(codeword, 2)\n",
    "\n",
    "# Adicionar erro à mensagem recebida\n",
    "received = codeword.copy()\n",
    "received[2] = (received[2] + 1) % 2\n",
    "\n",
    "\n",
    "# Definir a matriz de controle de paridade H\n",
    "H = np.array([[1, 0, 0, 1, 0, 1],\n",
    "              [0, 1, 0, 0, 1, 0],\n",
    "              [0, 0, 1, 0, 0, 1]\n",
    "             ])\n",
    "\n",
    "HT = np.transpose(H)\n",
    "\n",
    "# Verificar se há erros na mensagem recebida\n",
    "syndrome = np.dot(received, HT)%2\n",
    "\n",
    "if np.any(syndrome):\n",
    "    \n",
    "    for i in range(len(H)):\n",
    "        if np.array_equal(syndrome, H[i]) == False:\n",
    "           \n",
    "            received[i] = np.mod(received[i]+1 , 2)\n",
    "            break\n",
    "\n",
    "# Decodificar a mensagem recebida\n",
    "decoded = np.dot(received, GT)\n",
    "decoded = np.mod(decoded, 2)\n",
    "\n",
    "print(\"Mensagem original:\", message)\n",
    "print(\"Mensagem codificada:\", codeword)\n",
    "print(\"Mensagem recebida:\", received)\n",
    "print(\"Mensagem decodificada:\", decoded)"
   ]
  },
  {
   "cell_type": "code",
   "execution_count": null,
   "id": "246c5fcf",
   "metadata": {},
   "outputs": [],
   "source": []
  },
  {
   "cell_type": "code",
   "execution_count": null,
   "id": "5ed79729",
   "metadata": {},
   "outputs": [],
   "source": []
  }
 ],
 "metadata": {
  "kernelspec": {
   "display_name": "Python 3 (ipykernel)",
   "language": "python",
   "name": "python3"
  },
  "language_info": {
   "codemirror_mode": {
    "name": "ipython",
    "version": 3
   },
   "file_extension": ".py",
   "mimetype": "text/x-python",
   "name": "python",
   "nbconvert_exporter": "python",
   "pygments_lexer": "ipython3",
   "version": "3.10.9"
  }
 },
 "nbformat": 4,
 "nbformat_minor": 5
}
