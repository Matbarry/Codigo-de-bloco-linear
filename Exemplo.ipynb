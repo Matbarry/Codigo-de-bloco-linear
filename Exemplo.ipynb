{
 "cells": [
  {
   "cell_type": "code",
   "execution_count": null,
   "id": "6234db71",
   "metadata": {},
   "outputs": [],
   "source": [
    "EXEMPLO"
   ]
  },
  {
   "cell_type": "code",
   "execution_count": 93,
   "id": "6e92b52b",
   "metadata": {},
   "outputs": [
    {
     "name": "stdout",
     "output_type": "stream",
     "text": [
      "Mensagem original: [1 0 1]\n",
      "Código de bloco gerado: [1 0 1 1 0 1]\n",
      "Mensagem recebida: [1 0 1 0 1 0]\n",
      "Mensagem decodificada: [1 0 1]\n"
     ]
    }
   ],
   "source": [
    "import numpy as np\n",
    "\n",
    "# Definir a matriz geradora G\n",
    "G = np.array([[1, 0, 0], [0, 1, 0], [0, 0, 1], [1, 1, 0], [1, 0, 1], [0, 1, 1]])\n",
    "\n",
    "# Definir a matriz de paridade H\n",
    "H = np.array([[1, 1, 0, 1, 0, 0], [0, 1, 1, 0, 1, 0], [1, 0, 1, 0, 0, 1]])\n",
    "\n",
    "# Definir a mensagem a ser codificada\n",
    "msg = np.array([1, 0, 1])\n",
    "\n",
    "# Codificação\n",
    "codeword = np.dot(G, msg) % 2\n",
    "\n",
    "# Decodificação\n",
    "received = np.array([1, 0, 1, 0, 1, 0])  # Simulando a mensagem recebida\n",
    "syndrome = np.dot(received, H.T) % 2\n",
    "\n",
    "# Verificar se há erro\n",
    "if np.any(syndrome):\n",
    "    # Se houver erro, corrigir\n",
    "    for i in range(len(H)):\n",
    "        if np.array_equal(syndrome, H[i]):\n",
    "            received[i] = (received[i] + 1) % 2\n",
    "\n",
    "# Extrair a mensagem original\n",
    "decoded_msg = received[:3]\n",
    "\n",
    "print(\"Mensagem original:\", msg)\n",
    "print(\"Código de bloco gerado:\", codeword)\n",
    "print(\"Mensagem recebida:\", received)\n",
    "print(\"Mensagem decodificada:\", decoded_msg)"
   ]
  },
  {
   "cell_type": "code",
   "execution_count": null,
   "id": "c24dfb1d",
   "metadata": {},
   "outputs": [],
   "source": []
  }
 ],
 "metadata": {
  "kernelspec": {
   "display_name": "Python 3 (ipykernel)",
   "language": "python",
   "name": "python3"
  },
  "language_info": {
   "codemirror_mode": {
    "name": "ipython",
    "version": 3
   },
   "file_extension": ".py",
   "mimetype": "text/x-python",
   "name": "python",
   "nbconvert_exporter": "python",
   "pygments_lexer": "ipython3",
   "version": "3.10.9"
  }
 },
 "nbformat": 4,
 "nbformat_minor": 5
}
